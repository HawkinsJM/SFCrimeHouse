{
 "cells": [
  {
   "cell_type": "code",
   "execution_count": 9,
   "metadata": {
    "collapsed": false
   },
   "outputs": [],
   "source": [
    "import pandas as pd\n",
    "import ujson\n",
    "import pickle"
   ]
  },
  {
   "cell_type": "code",
   "execution_count": 10,
   "metadata": {
    "collapsed": false
   },
   "outputs": [],
   "source": [
    "fpath = '../data/SFPD.csv'\n",
    "pddf = pd.read_csv(fpath)\n",
    "pddf.head(1)\n",
    "pddf.replace(to_replace=['FORGERY/COUNTERFEITING','DRUG/NARCOTIC','PORNOGRAPHY/OBSCENE MAT','LARCENY/THEFT'], value=['FORGERY-COUNTERFEITING','DRUG-NARCOTIC','PORNOGRAPHY-OBSCENE MAT','LARCENY-THEFT'], inplace=True, limit=None, regex=False, method='pad', axis=None)\n"
   ]
  },
  {
   "cell_type": "code",
   "execution_count": 11,
   "metadata": {
    "collapsed": false
   },
   "outputs": [
    {
     "data": {
      "text/html": [
       "<div>\n",
       "<table border=\"1\" class=\"dataframe\">\n",
       "  <thead>\n",
       "    <tr style=\"text-align: right;\">\n",
       "      <th></th>\n",
       "      <th>Unnamed: 0</th>\n",
       "      <th>averageListingPrice</th>\n",
       "      <th>medianListingPrice</th>\n",
       "      <th>numberOfProperties</th>\n",
       "      <th>type</th>\n",
       "      <th>weekEndingDate</th>\n",
       "      <th>neighborhoodName</th>\n",
       "      <th>TruliaNID</th>\n",
       "      <th>City</th>\n",
       "      <th>State</th>\n",
       "    </tr>\n",
       "  </thead>\n",
       "  <tbody>\n",
       "    <tr>\n",
       "      <th>0</th>\n",
       "      <td>0</td>\n",
       "      <td>1120143</td>\n",
       "      <td>699000</td>\n",
       "      <td>7</td>\n",
       "      <td>All Properties</td>\n",
       "      <td>2009-07-04</td>\n",
       "      <td>Alamo Square</td>\n",
       "      <td>1386</td>\n",
       "      <td>San Francisco</td>\n",
       "      <td>CA</td>\n",
       "    </tr>\n",
       "    <tr>\n",
       "      <th>1</th>\n",
       "      <td>1</td>\n",
       "      <td>551000</td>\n",
       "      <td>535000</td>\n",
       "      <td>3</td>\n",
       "      <td>1 Bedroom Properties</td>\n",
       "      <td>2009-07-04</td>\n",
       "      <td>Alamo Square</td>\n",
       "      <td>1386</td>\n",
       "      <td>San Francisco</td>\n",
       "      <td>CA</td>\n",
       "    </tr>\n",
       "    <tr>\n",
       "      <th>2</th>\n",
       "      <td>2</td>\n",
       "      <td>553667</td>\n",
       "      <td>543000</td>\n",
       "      <td>3</td>\n",
       "      <td>1 Bedroom Properties</td>\n",
       "      <td>2009-07-04</td>\n",
       "      <td>Alamo Square</td>\n",
       "      <td>1386</td>\n",
       "      <td>San Francisco</td>\n",
       "      <td>CA</td>\n",
       "    </tr>\n",
       "    <tr>\n",
       "      <th>3</th>\n",
       "      <td>3</td>\n",
       "      <td>699000</td>\n",
       "      <td>699000</td>\n",
       "      <td>1</td>\n",
       "      <td>2 Bedroom Properties</td>\n",
       "      <td>2009-07-04</td>\n",
       "      <td>Alamo Square</td>\n",
       "      <td>1386</td>\n",
       "      <td>San Francisco</td>\n",
       "      <td>CA</td>\n",
       "    </tr>\n",
       "    <tr>\n",
       "      <th>4</th>\n",
       "      <td>4</td>\n",
       "      <td>799000</td>\n",
       "      <td>799000</td>\n",
       "      <td>1</td>\n",
       "      <td>3 Bedroom Properties</td>\n",
       "      <td>2009-07-04</td>\n",
       "      <td>Alamo Square</td>\n",
       "      <td>1386</td>\n",
       "      <td>San Francisco</td>\n",
       "      <td>CA</td>\n",
       "    </tr>\n",
       "  </tbody>\n",
       "</table>\n",
       "</div>"
      ],
      "text/plain": [
       "   Unnamed: 0  averageListingPrice  medianListingPrice  numberOfProperties  \\\n",
       "0           0              1120143              699000                   7   \n",
       "1           1               551000              535000                   3   \n",
       "2           2               553667              543000                   3   \n",
       "3           3               699000              699000                   1   \n",
       "4           4               799000              799000                   1   \n",
       "\n",
       "                   type weekEndingDate neighborhoodName  TruliaNID  \\\n",
       "0        All Properties     2009-07-04     Alamo Square       1386   \n",
       "1  1 Bedroom Properties     2009-07-04     Alamo Square       1386   \n",
       "2  1 Bedroom Properties     2009-07-04     Alamo Square       1386   \n",
       "3  2 Bedroom Properties     2009-07-04     Alamo Square       1386   \n",
       "4  3 Bedroom Properties     2009-07-04     Alamo Square       1386   \n",
       "\n",
       "            City State  \n",
       "0  San Francisco    CA  \n",
       "1  San Francisco    CA  \n",
       "2  San Francisco    CA  \n",
       "3  San Francisco    CA  \n",
       "4  San Francisco    CA  "
      ]
     },
     "execution_count": 11,
     "metadata": {},
     "output_type": "execute_result"
    }
   ],
   "source": [
    "hpdf = pd.read_csv('../data/SFlistingsN.csv')\n",
    "hpdf.head()"
   ]
  },
  {
   "cell_type": "code",
   "execution_count": 12,
   "metadata": {
    "collapsed": false
   },
   "outputs": [
    {
     "name": "stdout",
     "output_type": "stream",
     "text": [
      "set([\"Fisherman's Wharf\", 'Ingleside Terrace', 'Financial District', 'Forest Knolls', 'West Portal', 'Golden Gate Heights', 'Cow Hollow', 'Bernal Heights', 'Buena Vista Park', 'Treasure Island', 'Duboce Triangle', 'Visitacion Valley', 'Marina', 'Merced Manor', 'Mount Davidson Manor', 'Saint Francis Wood', 'Forest Hill', 'Mission Bay', 'Chinatown', 'Outer Sunset', 'Stonestown', 'Outer Richmond', 'Cole Valley', 'Haight', 'South Beach', 'Portola', 'Sunnyside', 'Miraloma', 'Silver Terrace', 'Golden Gate Park', 'Lower Pacific Heights', 'Lake Street', 'Downtown', 'Lincoln Park - Lobos', 'Crocker Amazon', \"Bernt's Knoll\", 'Telegraph Hill', 'Inner Sunset', 'Outer Mission', 'Central Richmond', 'Twin Peaks', 'Mission Dolores', 'Inner Richmond', 'Japantown', 'Glen Park', 'Mission Terrace', 'Balboa Terrace', 'Hayes Valley', 'Merced Heights', 'Ingleside Heights', 'Nob Hill', 'Ashbury Heights', 'SoMa', 'Diamond Heights', 'Noe Valley', 'North Beach', 'Sherwood Forest', 'Bayview', 'Civic Center', 'Hunters Point', 'Oceanview', 'Tenderloin', 'Stonestown Apartments', 'North Park', 'Midtown Terrace', 'Western Addition', 'Forest Hill Extension', 'Sea Cliff', 'Presidio Heights', 'Anza Vista', 'Westwood Park', 'Potrero Hill', 'Pacific Heights', 'Central Sunset', 'Excelsior', 'Monterey Heights', 'Panhandle', 'Central Waterfront', 'San Francisco State University', 'Ingleside', 'Alamo Square', 'Castro', 'Inner Parkside', 'Laurel Heights', 'Yerba Buena Island', 'Lone Mountain', 'Westwood Highlands', 'Presidio', 'Mission', 'Russian Hill'])\n"
     ]
    }
   ],
   "source": [
    "nbhoods = hpdf['neighborhoodName'].values\n",
    "nbh = set(nbhoods)\n",
    "print nbh"
   ]
  },
  {
   "cell_type": "code",
   "execution_count": 13,
   "metadata": {
    "collapsed": false
   },
   "outputs": [
    {
     "name": "stdout",
     "output_type": "stream",
     "text": [
      "set(['KIDNAPPING', 'WEAPON LAWS', 'SECONDARY CODES', 'WARRANTS', 'PROSTITUTION', 'EMBEZZLEMENT', 'SEX OFFENSES, NON FORCIBLE', 'SUICIDE', 'DRIVING UNDER THE INFLUENCE', 'ROBBERY', 'BURGLARY', 'SUSPICIOUS OCC', 'FAMILY OFFENSES', 'DRUG-NARCOTIC', 'BAD CHECKS', 'DRUNKENNESS', 'GAMBLING', 'OTHER OFFENSES', 'LARCENY-THEFT', 'RECOVERED VEHICLE', 'FRAUD', 'ARSON', 'SEX OFFENSES, FORCIBLE', 'FORGERY-COUNTERFEITING', 'PORNOGRAPHY-OBSCENE MAT', 'TRESPASS', 'LOITERING', 'VANDALISM', 'NON-CRIMINAL', 'EXTORTION', 'LIQUOR LAWS', 'ASSAULT', 'TREA', 'VEHICLE THEFT', 'STOLEN PROPERTY', 'BRIBERY', 'MISSING PERSON', 'DISORDERLY CONDUCT', 'RUNAWAY'])\n"
     ]
    }
   ],
   "source": [
    "ctype = pddf['Category'].values\n",
    "ctp = set(ctype)\n",
    "print ctp"
   ]
  },
  {
   "cell_type": "code",
   "execution_count": 14,
   "metadata": {
    "collapsed": false
   },
   "outputs": [
    {
     "name": "stderr",
     "output_type": "stream",
     "text": [
      "/opt/conda/lib/python2.7/site-packages/IPython/kernel/__main__.py:23: SettingWithCopyWarning: \n",
      "A value is trying to be set on a copy of a slice from a DataFrame.\n",
      "Try using .loc[row_indexer,col_indexer] = value instead\n",
      "\n",
      "See the the caveats in the documentation: http://pandas.pydata.org/pandas-docs/stable/indexing.html#indexing-view-versus-copy\n"
     ]
    }
   ],
   "source": [
    "## Clean Trulia dataset\n",
    "\n",
    "#only use data for 2 bedroom poperties\n",
    "hpdf = hpdf[hpdf['type'] == '2 Bedroom Properties']\n",
    "\n",
    "#make east SF neighborhoods into SFPD districts, those are the ones that map decently/semi-easily with Trulia data. Get rid of the others\n",
    "Bayview = ['Bayview', 'Central Waterfront', 'Hunters Point', 'Mission Bay', 'Portola', 'Potrero Hill', 'Silver Terrace']\n",
    "Central = ['Central', 'Downtown', 'Financial District', 'Nob Hill', 'North Beach', 'Russian Hill', 'Telegraph Hill']\n",
    "Mission = ['Mission', 'Mission Dolores', 'Noe Valley']\n",
    "Northern = ['Northern', 'Alamo Square', 'Cow Hollow', 'Duboce Triangle', 'Hayes Valley', 'Lower Pacific Heights', 'Marina', 'Pacific Heights', 'Western Addition']\n",
    "Southern = ['Southern', 'SoMa', 'South Beach']\n",
    "Tenderloin = ['Tenderloin', 'Civic Center']\n",
    "\n",
    "districts = [Bayview, Central, Mission, Northern, Southern, Tenderloin]\n",
    "\n",
    "hpd = pd.DataFrame()\n",
    "\n",
    "for district in districts:\n",
    "    hpdnh = pd.DataFrame()\n",
    "    \n",
    "    for nh in district:\n",
    "        hnh=hpdf[hpdf['neighborhoodName'] == nh]\n",
    "        hnh['SFPD District'] = str(district[0]).upper()\n",
    "        hpdnh=pd.concat([hpdnh,hnh])\n",
    "\n",
    "    hpd=pd.concat([hpd,hpdnh])\n",
    "\n",
    "#drop other columns\n",
    "hpd.drop('Unnamed: 0', axis=1, inplace=True)\n",
    "hpd.drop('medianListingPrice', axis=1, inplace=True)\n",
    "hpd.drop('numberOfProperties', axis=1, inplace=True)\n",
    "hpd.drop('TruliaNID', axis=1, inplace=True)\n",
    "\n",
    "#average together multiple listings from the same week\n",
    "hpd = hpd.set_index(pd.to_datetime(hpd['weekEndingDate']))\n",
    "hpd = hpd.groupby(['weekEndingDate','SFPD District']).mean()\n",
    "hpd = pd.DataFrame(hpd).reset_index()\n",
    "hpd = hpd.set_index(pd.to_datetime(hpd['weekEndingDate']))\n",
    "hpd.drop('weekEndingDate', axis=1, inplace=True)"
   ]
  },
  {
   "cell_type": "code",
   "execution_count": 18,
   "metadata": {
    "collapsed": false
   },
   "outputs": [
    {
     "name": "stdout",
     "output_type": "stream",
     "text": [
      "Category    ARSON  ASSAULT  BAD CHECKS  BRIBERY  BURGLARY  DISORDERLY CONDUCT  \\\n",
      "2003-01-01      0        7           0        0         0                   0   \n",
      "2004-01-01      0        6           0        0         1                   0   \n",
      "2005-01-01      0        9           0        0         1                   0   \n",
      "2006-01-01      0       11           0        0         0                   0   \n",
      "2007-01-01      0       10           0        0         0                   0   \n",
      "\n",
      "Category    DRIVING UNDER THE INFLUENCE  DRUG-NARCOTIC  DRUNKENNESS  \\\n",
      "2003-01-01                            0              3            1   \n",
      "2004-01-01                            0              5            0   \n",
      "2005-01-01                            0              5            0   \n",
      "2006-01-01                            0              3            2   \n",
      "2007-01-01                            0              1            0   \n",
      "\n",
      "Category    EMBEZZLEMENT  ...    SEX OFFENSES, NON FORCIBLE  STOLEN PROPERTY  \\\n",
      "2003-01-01             0  ...                             0                0   \n",
      "2004-01-01             0  ...                             0                0   \n",
      "2005-01-01             0  ...                             0                1   \n",
      "2006-01-01             0  ...                             0                0   \n",
      "2007-01-01             0  ...                             0                0   \n",
      "\n",
      "Category    SUICIDE  SUSPICIOUS OCC  TRESPASS  VANDALISM  VEHICLE THEFT  \\\n",
      "2003-01-01        0               1         1          0              0   \n",
      "2004-01-01        0               4         0          1              0   \n",
      "2005-01-01        0               1         0          0              0   \n",
      "2006-01-01        0               2         1          1              0   \n",
      "2007-01-01        1               1         0          0              1   \n",
      "\n",
      "Category    WARRANTS  WEAPON LAWS  Total  \n",
      "2003-01-01         2            1     42  \n",
      "2004-01-01         1            0     34  \n",
      "2005-01-01         1            1     35  \n",
      "2006-01-01         1            0     37  \n",
      "2007-01-01         3            0     38  \n",
      "\n",
      "[5 rows x 39 columns]\n"
     ]
    }
   ],
   "source": [
    "rsfl = ['12M','6M', '3M','1M']\n",
    "\n",
    "dist_list = ['TENDERLOIN']\n",
    "\n",
    "for rsf in rsfl:\n",
    "    for dist in dist_list:\n",
    "        pdi = pddf[pddf['PdDistrict'] == dist.upper()]\n",
    "        hpi = hpd[hpd['SFPD District'] == dist.upper()]\n",
    "\n",
    "        pdct = pd.crosstab(pdi['Date'],pdi['Category'])\n",
    "        pdct = pdct.set_index(pd.to_datetime(pdct.index))\n",
    "        pdct['ALL'] = pdct.sum(axis=1)\n",
    "        print pdct.head()\n",
    "        break\n",
    "    break\n",
    "\n"
   ]
  },
  {
   "cell_type": "code",
   "execution_count": 27,
   "metadata": {
    "collapsed": false
   },
   "outputs": [
    {
     "name": "stdout",
     "output_type": "stream",
     "text": [
      "All 12M Data Exported\n",
      "All 6M Data Exported\n",
      "All 3M Data Exported\n",
      "All 1M Data Exported\n",
      "All Data Exported\n"
     ]
    }
   ],
   "source": [
    "#Output Crime and Housing for each district\n",
    "rsfl = ['12M','6M', '3M','1M']\n",
    "\n",
    "dist_list = ['Bayview','Central','Mission','Northern','SOUTHERN','TENDERLOIN']\n",
    "\n",
    "for rsf in rsfl:\n",
    "    for dist in dist_list:\n",
    "        pdi = pddf[pddf['PdDistrict'] == dist.upper()]\n",
    "        hpi = hpd[hpd['SFPD District'] == dist.upper()]\n",
    "\n",
    "        pdct = pd.crosstab(pdi['Date'],pdi['Category'])\n",
    "        pdct = pdct.set_index(pd.to_datetime(pdct.index))\n",
    "        pdct = pdct.resample(rsf, how='sum')\n",
    "        pdct['ALL'] = pdct.sum(axis=1)\n",
    "        pdct.drop(pdct.head(1).index, inplace=True)\n",
    "        pdct.drop(pdct.tail(1).index, inplace=True)\n",
    "        \n",
    "        \n",
    "        hpdc = hpi.resample(rsf, how='mean')\n",
    "\n",
    "        #find average housing cost in all of SF\n",
    "        hop = hpd.resample(rsf, how='mean')\n",
    "        #append to hpdc\n",
    "        hpdc['alp_allsf'] = hop['averageListingPrice']\n",
    "\n",
    "        #merge dataframes for plotting\n",
    "        merge = pdct.join(hpdc)\n",
    "        merge = merge.drop(merge.head(1).index)\n",
    "        merge = merge.drop(merge.tail(1).index)\n",
    "\n",
    "        merge.columns.name = 'Date'\n",
    "\n",
    "        fname = '../cast2/app/static/data/perd/{}-{}.csv'.format(dist.upper(), rsf.upper())\n",
    "        merge.to_csv(fname)\n",
    "        #print fname\n",
    "        #print '%s %s Data Exported' % (dist.upper(), rsf.upper())\n",
    "    \n",
    "\n",
    "    pdi = pddf.copy()\n",
    "    hpi = hpd.copy()\n",
    "    dist = 'All'    \n",
    "    pdct = pd.crosstab(pdi['Date'],pdi['Category'])\n",
    "    pdct = pdct.set_index(pd.to_datetime(pdct.index))\n",
    "    pdct = pdct.resample(rsf, how='sum')\n",
    "    pdct['ALL'] = pdct.sum(axis=1)\n",
    "    pdct.drop(pdct.head(1).index, inplace=True)\n",
    "    pdct.drop(pdct.tail(1).index, inplace=True)\n",
    "    \n",
    "    hpdc = hpi.resample(rsf, how='mean')\n",
    "    \n",
    "    #find average housing cost in all of SF\n",
    "    hop = hpd.resample(rsf, how='mean')\n",
    "    #append to hpdc\n",
    "    hpdc['alp_allsf'] = hop['averageListingPrice']\n",
    "\n",
    "    #merge dataframes for plotting\n",
    "    merge = pdct.join(hpdc)\n",
    "    merge = merge.drop(merge.head(1).index)\n",
    "    merge = merge.drop(merge.tail(1).index)\n",
    "\n",
    "    merge.columns.name = 'Date'\n",
    "    fname = '../cast2/app/static/data/perd/{}-{}.csv'.format(dist.upper(), rsf.upper())\n",
    "    merge.to_csv(fname)\n",
    "    #print '%s %s Data Exported' % (dist.upper(), rsf.upper())  \n",
    "    print 'All %s Data Exported' % (rsf.upper()) \n",
    "print 'All Data Exported'"
   ]
  },
  {
   "cell_type": "code",
   "execution_count": null,
   "metadata": {
    "collapsed": true
   },
   "outputs": [],
   "source": []
  }
 ],
 "metadata": {
  "kernelspec": {
   "display_name": "Python 2",
   "language": "python",
   "name": "python2"
  },
  "language_info": {
   "codemirror_mode": {
    "name": "ipython",
    "version": 2
   },
   "file_extension": ".py",
   "mimetype": "text/x-python",
   "name": "python",
   "nbconvert_exporter": "python",
   "pygments_lexer": "ipython2",
   "version": "2.7.10"
  }
 },
 "nbformat": 4,
 "nbformat_minor": 0
}
